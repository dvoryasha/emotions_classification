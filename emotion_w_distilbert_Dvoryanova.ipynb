{
  "cells": [
    {
      "cell_type": "code",
      "execution_count": null,
      "id": "c045b1d1",
      "metadata": {
        "_cell_guid": "b1076dfc-b9ad-4769-8c92-a6c4dae69d19",
        "_uuid": "8f2839f25d086af736a60e9eeb907d3b93b6e0e5",
        "execution": {
          "iopub.execute_input": "2024-04-18T14:03:57.509363Z",
          "iopub.status.busy": "2024-04-18T14:03:57.509018Z",
          "iopub.status.idle": "2024-04-18T14:04:09.288155Z",
          "shell.execute_reply": "2024-04-18T14:04:09.287145Z"
        },
        "papermill": {
          "duration": 11.79765,
          "end_time": "2024-04-18T14:04:09.290422",
          "exception": false,
          "start_time": "2024-04-18T14:03:57.492772",
          "status": "completed"
        },
        "tags": [],
        "id": "c045b1d1",
        "outputId": "0a54a03d-d871-446c-8e10-3b23325ce0c1"
      },
      "outputs": [
        {
          "name": "stderr",
          "output_type": "stream",
          "text": [
            "2024-04-18 14:04:00.389593: E external/local_xla/xla/stream_executor/cuda/cuda_dnn.cc:9261] Unable to register cuDNN factory: Attempting to register factory for plugin cuDNN when one has already been registered\n",
            "2024-04-18 14:04:00.389693: E external/local_xla/xla/stream_executor/cuda/cuda_fft.cc:607] Unable to register cuFFT factory: Attempting to register factory for plugin cuFFT when one has already been registered\n",
            "2024-04-18 14:04:00.487273: E external/local_xla/xla/stream_executor/cuda/cuda_blas.cc:1515] Unable to register cuBLAS factory: Attempting to register factory for plugin cuBLAS when one has already been registered\n"
          ]
        },
        {
          "name": "stdout",
          "output_type": "stream",
          "text": [
            "/kaggle/input/emotions-dataset-for-nlp/val.txt\n",
            "/kaggle/input/emotions-dataset-for-nlp/test.txt\n",
            "/kaggle/input/emotions-dataset-for-nlp/train.txt\n"
          ]
        }
      ],
      "source": [
        "import numpy as np\n",
        "import pandas as pd\n",
        "import matplotlib.pyplot as plt\n",
        "\n",
        "from datasets import Dataset, load_dataset\n",
        "import tensorflow as tf\n",
        "import keras\n",
        "\n",
        "\n",
        "import os\n",
        "for dirname, _, filenames in os.walk('/kaggle/input'):\n",
        "    for filename in filenames:\n",
        "        print(os.path.join(dirname, filename))"
      ]
    },
    {
      "cell_type": "markdown",
      "id": "22bfc4b2",
      "metadata": {
        "papermill": {
          "duration": 0.01513,
          "end_time": "2024-04-18T14:04:09.320615",
          "exception": false,
          "start_time": "2024-04-18T14:04:09.305485",
          "status": "completed"
        },
        "tags": [],
        "id": "22bfc4b2"
      },
      "source": [
        "# **Load the Data for Visualization**"
      ]
    },
    {
      "cell_type": "code",
      "execution_count": null,
      "id": "332a2425",
      "metadata": {
        "execution": {
          "iopub.execute_input": "2024-04-18T14:04:09.352449Z",
          "iopub.status.busy": "2024-04-18T14:04:09.351853Z",
          "iopub.status.idle": "2024-04-18T14:04:09.444291Z",
          "shell.execute_reply": "2024-04-18T14:04:09.443458Z"
        },
        "papermill": {
          "duration": 0.111361,
          "end_time": "2024-04-18T14:04:09.446628",
          "exception": false,
          "start_time": "2024-04-18T14:04:09.335267",
          "status": "completed"
        },
        "tags": [],
        "id": "332a2425"
      },
      "outputs": [],
      "source": [
        "train_ds = pd.read_csv(\"/kaggle/input/emotions-dataset-for-nlp/train.txt\", delimiter=\";\", names=[\"text\", \"label\"])\n",
        "\n",
        "val_ds = pd.read_csv(\"/kaggle/input/emotions-dataset-for-nlp/val.txt\", delimiter=\";\", names=[\"text\", \"label\"])\n",
        "\n",
        "test_ds = pd.read_csv(\"/kaggle/input/emotions-dataset-for-nlp/test.txt\", delimiter=\";\", names=[\"text\", \"label\"])"
      ]
    },
    {
      "cell_type": "code",
      "execution_count": null,
      "id": "d6f4a4de",
      "metadata": {
        "execution": {
          "iopub.execute_input": "2024-04-18T14:04:09.478551Z",
          "iopub.status.busy": "2024-04-18T14:04:09.478269Z",
          "iopub.status.idle": "2024-04-18T14:04:09.494612Z",
          "shell.execute_reply": "2024-04-18T14:04:09.493684Z"
        },
        "papermill": {
          "duration": 0.033507,
          "end_time": "2024-04-18T14:04:09.496573",
          "exception": false,
          "start_time": "2024-04-18T14:04:09.463066",
          "status": "completed"
        },
        "tags": [],
        "id": "d6f4a4de",
        "outputId": "9a9a9b6a-c794-4fb4-cbf4-eb101bf055e6"
      },
      "outputs": [
        {
          "data": {
            "text/html": [
              "<div>\n",
              "<style scoped>\n",
              "    .dataframe tbody tr th:only-of-type {\n",
              "        vertical-align: middle;\n",
              "    }\n",
              "\n",
              "    .dataframe tbody tr th {\n",
              "        vertical-align: top;\n",
              "    }\n",
              "\n",
              "    .dataframe thead th {\n",
              "        text-align: right;\n",
              "    }\n",
              "</style>\n",
              "<table border=\"1\" class=\"dataframe\">\n",
              "  <thead>\n",
              "    <tr style=\"text-align: right;\">\n",
              "      <th></th>\n",
              "      <th>text</th>\n",
              "      <th>label</th>\n",
              "    </tr>\n",
              "  </thead>\n",
              "  <tbody>\n",
              "    <tr>\n",
              "      <th>0</th>\n",
              "      <td>i didnt feel humiliated</td>\n",
              "      <td>sadness</td>\n",
              "    </tr>\n",
              "    <tr>\n",
              "      <th>1</th>\n",
              "      <td>i can go from feeling so hopeless to so damned...</td>\n",
              "      <td>sadness</td>\n",
              "    </tr>\n",
              "    <tr>\n",
              "      <th>2</th>\n",
              "      <td>im grabbing a minute to post i feel greedy wrong</td>\n",
              "      <td>anger</td>\n",
              "    </tr>\n",
              "    <tr>\n",
              "      <th>3</th>\n",
              "      <td>i am ever feeling nostalgic about the fireplac...</td>\n",
              "      <td>love</td>\n",
              "    </tr>\n",
              "    <tr>\n",
              "      <th>4</th>\n",
              "      <td>i am feeling grouchy</td>\n",
              "      <td>anger</td>\n",
              "    </tr>\n",
              "    <tr>\n",
              "      <th>...</th>\n",
              "      <td>...</td>\n",
              "      <td>...</td>\n",
              "    </tr>\n",
              "    <tr>\n",
              "      <th>15995</th>\n",
              "      <td>i just had a very brief time in the beanbag an...</td>\n",
              "      <td>sadness</td>\n",
              "    </tr>\n",
              "    <tr>\n",
              "      <th>15996</th>\n",
              "      <td>i am now turning and i feel pathetic that i am...</td>\n",
              "      <td>sadness</td>\n",
              "    </tr>\n",
              "    <tr>\n",
              "      <th>15997</th>\n",
              "      <td>i feel strong and good overall</td>\n",
              "      <td>joy</td>\n",
              "    </tr>\n",
              "    <tr>\n",
              "      <th>15998</th>\n",
              "      <td>i feel like this was such a rude comment and i...</td>\n",
              "      <td>anger</td>\n",
              "    </tr>\n",
              "    <tr>\n",
              "      <th>15999</th>\n",
              "      <td>i know a lot but i feel so stupid because i ca...</td>\n",
              "      <td>sadness</td>\n",
              "    </tr>\n",
              "  </tbody>\n",
              "</table>\n",
              "<p>16000 rows × 2 columns</p>\n",
              "</div>"
            ],
            "text/plain": [
              "                                                    text    label\n",
              "0                                i didnt feel humiliated  sadness\n",
              "1      i can go from feeling so hopeless to so damned...  sadness\n",
              "2       im grabbing a minute to post i feel greedy wrong    anger\n",
              "3      i am ever feeling nostalgic about the fireplac...     love\n",
              "4                                   i am feeling grouchy    anger\n",
              "...                                                  ...      ...\n",
              "15995  i just had a very brief time in the beanbag an...  sadness\n",
              "15996  i am now turning and i feel pathetic that i am...  sadness\n",
              "15997                     i feel strong and good overall      joy\n",
              "15998  i feel like this was such a rude comment and i...    anger\n",
              "15999  i know a lot but i feel so stupid because i ca...  sadness\n",
              "\n",
              "[16000 rows x 2 columns]"
            ]
          },
          "execution_count": 3,
          "metadata": {},
          "output_type": "execute_result"
        }
      ],
      "source": [
        "train_ds"
      ]
    },
    {
      "cell_type": "code",
      "execution_count": null,
      "id": "8ab60611",
      "metadata": {
        "execution": {
          "iopub.execute_input": "2024-04-18T14:04:09.527803Z",
          "iopub.status.busy": "2024-04-18T14:04:09.527245Z",
          "iopub.status.idle": "2024-04-18T14:04:09.536921Z",
          "shell.execute_reply": "2024-04-18T14:04:09.535972Z"
        },
        "papermill": {
          "duration": 0.027411,
          "end_time": "2024-04-18T14:04:09.538951",
          "exception": false,
          "start_time": "2024-04-18T14:04:09.511540",
          "status": "completed"
        },
        "tags": [],
        "id": "8ab60611",
        "outputId": "b3ba5ab5-2079-48ee-b7ed-18ba26e48db7"
      },
      "outputs": [
        {
          "data": {
            "text/html": [
              "<div>\n",
              "<style scoped>\n",
              "    .dataframe tbody tr th:only-of-type {\n",
              "        vertical-align: middle;\n",
              "    }\n",
              "\n",
              "    .dataframe tbody tr th {\n",
              "        vertical-align: top;\n",
              "    }\n",
              "\n",
              "    .dataframe thead th {\n",
              "        text-align: right;\n",
              "    }\n",
              "</style>\n",
              "<table border=\"1\" class=\"dataframe\">\n",
              "  <thead>\n",
              "    <tr style=\"text-align: right;\">\n",
              "      <th></th>\n",
              "      <th>text</th>\n",
              "      <th>label</th>\n",
              "    </tr>\n",
              "  </thead>\n",
              "  <tbody>\n",
              "    <tr>\n",
              "      <th>0</th>\n",
              "      <td>im feeling quite sad and sorry for myself but ...</td>\n",
              "      <td>sadness</td>\n",
              "    </tr>\n",
              "    <tr>\n",
              "      <th>1</th>\n",
              "      <td>i feel like i am still looking at a blank canv...</td>\n",
              "      <td>sadness</td>\n",
              "    </tr>\n",
              "    <tr>\n",
              "      <th>2</th>\n",
              "      <td>i feel like a faithful servant</td>\n",
              "      <td>love</td>\n",
              "    </tr>\n",
              "    <tr>\n",
              "      <th>3</th>\n",
              "      <td>i am just feeling cranky and blue</td>\n",
              "      <td>anger</td>\n",
              "    </tr>\n",
              "    <tr>\n",
              "      <th>4</th>\n",
              "      <td>i can have for a treat or if i am feeling festive</td>\n",
              "      <td>joy</td>\n",
              "    </tr>\n",
              "    <tr>\n",
              "      <th>...</th>\n",
              "      <td>...</td>\n",
              "      <td>...</td>\n",
              "    </tr>\n",
              "    <tr>\n",
              "      <th>1995</th>\n",
              "      <td>im having ssa examination tomorrow in the morn...</td>\n",
              "      <td>sadness</td>\n",
              "    </tr>\n",
              "    <tr>\n",
              "      <th>1996</th>\n",
              "      <td>i constantly worry about their fight against n...</td>\n",
              "      <td>joy</td>\n",
              "    </tr>\n",
              "    <tr>\n",
              "      <th>1997</th>\n",
              "      <td>i feel its important to share this info for th...</td>\n",
              "      <td>joy</td>\n",
              "    </tr>\n",
              "    <tr>\n",
              "      <th>1998</th>\n",
              "      <td>i truly feel that if you are passionate enough...</td>\n",
              "      <td>joy</td>\n",
              "    </tr>\n",
              "    <tr>\n",
              "      <th>1999</th>\n",
              "      <td>i feel like i just wanna buy any cute make up ...</td>\n",
              "      <td>joy</td>\n",
              "    </tr>\n",
              "  </tbody>\n",
              "</table>\n",
              "<p>2000 rows × 2 columns</p>\n",
              "</div>"
            ],
            "text/plain": [
              "                                                   text    label\n",
              "0     im feeling quite sad and sorry for myself but ...  sadness\n",
              "1     i feel like i am still looking at a blank canv...  sadness\n",
              "2                        i feel like a faithful servant     love\n",
              "3                     i am just feeling cranky and blue    anger\n",
              "4     i can have for a treat or if i am feeling festive      joy\n",
              "...                                                 ...      ...\n",
              "1995  im having ssa examination tomorrow in the morn...  sadness\n",
              "1996  i constantly worry about their fight against n...      joy\n",
              "1997  i feel its important to share this info for th...      joy\n",
              "1998  i truly feel that if you are passionate enough...      joy\n",
              "1999  i feel like i just wanna buy any cute make up ...      joy\n",
              "\n",
              "[2000 rows x 2 columns]"
            ]
          },
          "execution_count": 4,
          "metadata": {},
          "output_type": "execute_result"
        }
      ],
      "source": [
        "val_ds"
      ]
    },
    {
      "cell_type": "code",
      "execution_count": null,
      "id": "f65e7a19",
      "metadata": {
        "execution": {
          "iopub.execute_input": "2024-04-18T14:04:09.570345Z",
          "iopub.status.busy": "2024-04-18T14:04:09.570062Z",
          "iopub.status.idle": "2024-04-18T14:04:09.579820Z",
          "shell.execute_reply": "2024-04-18T14:04:09.578969Z"
        },
        "papermill": {
          "duration": 0.02778,
          "end_time": "2024-04-18T14:04:09.582034",
          "exception": false,
          "start_time": "2024-04-18T14:04:09.554254",
          "status": "completed"
        },
        "tags": [],
        "id": "f65e7a19",
        "outputId": "6a408efe-30fc-44b1-c24e-73276aa96bd7"
      },
      "outputs": [
        {
          "data": {
            "text/html": [
              "<div>\n",
              "<style scoped>\n",
              "    .dataframe tbody tr th:only-of-type {\n",
              "        vertical-align: middle;\n",
              "    }\n",
              "\n",
              "    .dataframe tbody tr th {\n",
              "        vertical-align: top;\n",
              "    }\n",
              "\n",
              "    .dataframe thead th {\n",
              "        text-align: right;\n",
              "    }\n",
              "</style>\n",
              "<table border=\"1\" class=\"dataframe\">\n",
              "  <thead>\n",
              "    <tr style=\"text-align: right;\">\n",
              "      <th></th>\n",
              "      <th>text</th>\n",
              "      <th>label</th>\n",
              "    </tr>\n",
              "  </thead>\n",
              "  <tbody>\n",
              "    <tr>\n",
              "      <th>0</th>\n",
              "      <td>im feeling rather rotten so im not very ambiti...</td>\n",
              "      <td>sadness</td>\n",
              "    </tr>\n",
              "    <tr>\n",
              "      <th>1</th>\n",
              "      <td>im updating my blog because i feel shitty</td>\n",
              "      <td>sadness</td>\n",
              "    </tr>\n",
              "    <tr>\n",
              "      <th>2</th>\n",
              "      <td>i never make her separate from me because i do...</td>\n",
              "      <td>sadness</td>\n",
              "    </tr>\n",
              "    <tr>\n",
              "      <th>3</th>\n",
              "      <td>i left with my bouquet of red and yellow tulip...</td>\n",
              "      <td>joy</td>\n",
              "    </tr>\n",
              "    <tr>\n",
              "      <th>4</th>\n",
              "      <td>i was feeling a little vain when i did this one</td>\n",
              "      <td>sadness</td>\n",
              "    </tr>\n",
              "    <tr>\n",
              "      <th>...</th>\n",
              "      <td>...</td>\n",
              "      <td>...</td>\n",
              "    </tr>\n",
              "    <tr>\n",
              "      <th>1995</th>\n",
              "      <td>i just keep feeling like someone is being unki...</td>\n",
              "      <td>anger</td>\n",
              "    </tr>\n",
              "    <tr>\n",
              "      <th>1996</th>\n",
              "      <td>im feeling a little cranky negative after this...</td>\n",
              "      <td>anger</td>\n",
              "    </tr>\n",
              "    <tr>\n",
              "      <th>1997</th>\n",
              "      <td>i feel that i am useful to my people and that ...</td>\n",
              "      <td>joy</td>\n",
              "    </tr>\n",
              "    <tr>\n",
              "      <th>1998</th>\n",
              "      <td>im feeling more comfortable with derby i feel ...</td>\n",
              "      <td>joy</td>\n",
              "    </tr>\n",
              "    <tr>\n",
              "      <th>1999</th>\n",
              "      <td>i feel all weird when i have to meet w people ...</td>\n",
              "      <td>fear</td>\n",
              "    </tr>\n",
              "  </tbody>\n",
              "</table>\n",
              "<p>2000 rows × 2 columns</p>\n",
              "</div>"
            ],
            "text/plain": [
              "                                                   text    label\n",
              "0     im feeling rather rotten so im not very ambiti...  sadness\n",
              "1             im updating my blog because i feel shitty  sadness\n",
              "2     i never make her separate from me because i do...  sadness\n",
              "3     i left with my bouquet of red and yellow tulip...      joy\n",
              "4       i was feeling a little vain when i did this one  sadness\n",
              "...                                                 ...      ...\n",
              "1995  i just keep feeling like someone is being unki...    anger\n",
              "1996  im feeling a little cranky negative after this...    anger\n",
              "1997  i feel that i am useful to my people and that ...      joy\n",
              "1998  im feeling more comfortable with derby i feel ...      joy\n",
              "1999  i feel all weird when i have to meet w people ...     fear\n",
              "\n",
              "[2000 rows x 2 columns]"
            ]
          },
          "execution_count": 5,
          "metadata": {},
          "output_type": "execute_result"
        }
      ],
      "source": [
        "test_ds"
      ]
    },
    {
      "cell_type": "markdown",
      "id": "dfba896e",
      "metadata": {
        "papermill": {
          "duration": 0.015147,
          "end_time": "2024-04-18T14:04:09.614134",
          "exception": false,
          "start_time": "2024-04-18T14:04:09.598987",
          "status": "completed"
        },
        "tags": [],
        "id": "dfba896e"
      },
      "source": [
        "# **Visualize Data**"
      ]
    },
    {
      "cell_type": "code",
      "execution_count": null,
      "id": "cc5ff545",
      "metadata": {
        "execution": {
          "iopub.execute_input": "2024-04-18T14:04:09.646089Z",
          "iopub.status.busy": "2024-04-18T14:04:09.645802Z",
          "iopub.status.idle": "2024-04-18T14:04:10.293586Z",
          "shell.execute_reply": "2024-04-18T14:04:10.292604Z"
        },
        "papermill": {
          "duration": 0.666499,
          "end_time": "2024-04-18T14:04:10.296120",
          "exception": false,
          "start_time": "2024-04-18T14:04:09.629621",
          "status": "completed"
        },
        "tags": [],
        "id": "cc5ff545",
        "outputId": "c0c933f1-a8b0-4714-d482-b2f0846d5a6a"
      },
      "outputs": [
        {
          "name": "stderr",
          "output_type": "stream",
          "text": [
            "/tmp/ipykernel_24/1803753486.py:3: MatplotlibDeprecationWarning: Auto-removal of overlapping axes is deprecated since 3.6 and will be removed two minor releases later; explicitly call ax.remove() as needed.\n",
            "  plt.subplot(1,3,1)\n"
          ]
        },
        {
          "data": {
            "image/png": "[encoded data removed]",
            "text/plain": [
              "<Figure size 1500x500 with 3 Axes>"
            ]
          },
          "metadata": {},
          "output_type": "display_data"
        }
      ],
      "source": [
        "plt.subplots(figsize=(15,5))\n",
        "\n",
        "plt.subplot(1,3,1)\n",
        "train_ds[\"label\"].value_counts(ascending=True).plot.barh()\n",
        "plt.title(\"Frequency of Classes in Training Data\")\n",
        "plt.ylabel(\"Label\")\n",
        "\n",
        "plt.subplot(1,3,2)\n",
        "val_ds[\"label\"].value_counts(ascending=True).plot.barh()\n",
        "plt.title(\"Frequency of Classes in Validation Data\")\n",
        "plt.ylabel(\"Label\")\n",
        "\n",
        "plt.subplot(1,3,3)\n",
        "test_ds[\"label\"].value_counts(ascending=True).plot.barh()\n",
        "plt.title(\"Frequency of Classes in Test Data\")\n",
        "plt.ylabel(\"Label\")\n",
        "\n",
        "plt.suptitle(\"Frequency of Classes\", fontsize=16, fontweight='bold')\n",
        "plt.show()\n"
      ]
    },
    {
      "cell_type": "code",
      "execution_count": null,
      "id": "57959cb3",
      "metadata": {
        "execution": {
          "iopub.execute_input": "2024-04-18T14:04:10.329694Z",
          "iopub.status.busy": "2024-04-18T14:04:10.329375Z",
          "iopub.status.idle": "2024-04-18T14:04:10.335335Z",
          "shell.execute_reply": "2024-04-18T14:04:10.334394Z"
        },
        "papermill": {
          "duration": 0.024912,
          "end_time": "2024-04-18T14:04:10.337341",
          "exception": false,
          "start_time": "2024-04-18T14:04:10.312429",
          "status": "completed"
        },
        "tags": [],
        "id": "57959cb3"
      },
      "outputs": [],
      "source": [
        "# Concat Train and Val Set to get a better overview of whole Training Set\n",
        "\n",
        "emotions = pd.concat([train_ds, val_ds], axis=0)"
      ]
    },
    {
      "cell_type": "code",
      "execution_count": null,
      "id": "3bd8f703",
      "metadata": {
        "execution": {
          "iopub.execute_input": "2024-04-18T14:04:10.369471Z",
          "iopub.status.busy": "2024-04-18T14:04:10.369165Z",
          "iopub.status.idle": "2024-04-18T14:04:10.603702Z",
          "shell.execute_reply": "2024-04-18T14:04:10.602768Z"
        },
        "papermill": {
          "duration": 0.252968,
          "end_time": "2024-04-18T14:04:10.605794",
          "exception": false,
          "start_time": "2024-04-18T14:04:10.352826",
          "status": "completed"
        },
        "tags": [],
        "id": "3bd8f703",
        "outputId": "54b91e15-605c-41f0-b571-f2b74c0b7e67"
      },
      "outputs": [
        {
          "data": {
            "image/png": "[encoded data removed]",
            "text/plain": [
              "<Figure size 640x480 with 1 Axes>"
            ]
          },
          "metadata": {},
          "output_type": "display_data"
        }
      ],
      "source": [
        "emotions[\"label\"].value_counts(ascending=True).plot.barh()\n",
        "plt.ylabel(\"Label\")\n",
        "plt.title(\"Frequency of Classes\")\n",
        "plt.show()"
      ]
    },
    {
      "cell_type": "code",
      "execution_count": null,
      "id": "a75aa18e",
      "metadata": {
        "execution": {
          "iopub.execute_input": "2024-04-18T14:04:10.639940Z",
          "iopub.status.busy": "2024-04-18T14:04:10.639638Z",
          "iopub.status.idle": "2024-04-18T14:04:11.017450Z",
          "shell.execute_reply": "2024-04-18T14:04:11.016280Z"
        },
        "papermill": {
          "duration": 0.397389,
          "end_time": "2024-04-18T14:04:11.019744",
          "exception": false,
          "start_time": "2024-04-18T14:04:10.622355",
          "status": "completed"
        },
        "tags": [],
        "id": "a75aa18e",
        "outputId": "d744a636-c0fb-4a88-ccce-a9421be14007"
      },
      "outputs": [
        {
          "data": {
            "image/png": "[encoded data removed]",
            "text/plain": [
              "<Figure size 640x480 with 1 Axes>"
            ]
          },
          "metadata": {},
          "output_type": "display_data"
        }
      ],
      "source": [
        "emotions[\"Words per Tweet\"] = emotions[\"text\"].str.split().apply(len)\n",
        "emotions.boxplot(\"Words per Tweet\", by=\"label\", grid=False, showfliers=False, color=\"blue\")\n",
        "plt.suptitle(\"\")\n",
        "plt.xlabel(\"\")\n",
        "plt.show()"
      ]
    },
    {
      "cell_type": "markdown",
      "id": "14977441",
      "metadata": {
        "papermill": {
          "duration": 0.017888,
          "end_time": "2024-04-18T14:04:11.058930",
          "exception": false,
          "start_time": "2024-04-18T14:04:11.041042",
          "status": "completed"
        },
        "tags": [],
        "id": "14977441"
      },
      "source": [
        "Loading Datasets again but this time as a Dict"
      ]
    },
    {
      "cell_type": "code",
      "execution_count": null,
      "id": "840bbd33",
      "metadata": {
        "execution": {
          "iopub.execute_input": "2024-04-18T14:04:11.095522Z",
          "iopub.status.busy": "2024-04-18T14:04:11.095175Z",
          "iopub.status.idle": "2024-04-18T14:04:11.804566Z",
          "shell.execute_reply": "2024-04-18T14:04:11.803820Z"
        },
        "papermill": {
          "duration": 0.72918,
          "end_time": "2024-04-18T14:04:11.806420",
          "exception": false,
          "start_time": "2024-04-18T14:04:11.077240",
          "status": "completed"
        },
        "tags": [],
        "id": "840bbd33",
        "outputId": "686eff70-d933-4cc1-8b48-7899736f3829",
        "colab": {
          "referenced_widgets": [
            "b180c497ace24d5abf7cc29c61fb1dac",
            "a4711590f92b417fb2558463575b176c",
            "148917151ed24fd0afa0d6c05f82c7e8"
          ]
        }
      },
      "outputs": [
        {
          "data": {
            "application/vnd.jupyter.widget-view+json": {
              "model_id": "b180c497ace24d5abf7cc29c61fb1dac",
              "version_major": 2,
              "version_minor": 0
            },
            "text/plain": [
              "Generating train split: 0 examples [00:00, ? examples/s]"
            ]
          },
          "metadata": {},
          "output_type": "display_data"
        },
        {
          "data": {
            "application/vnd.jupyter.widget-view+json": {
              "model_id": "a4711590f92b417fb2558463575b176c",
              "version_major": 2,
              "version_minor": 0
            },
            "text/plain": [
              "Generating train split: 0 examples [00:00, ? examples/s]"
            ]
          },
          "metadata": {},
          "output_type": "display_data"
        },
        {
          "data": {
            "application/vnd.jupyter.widget-view+json": {
              "model_id": "148917151ed24fd0afa0d6c05f82c7e8",
              "version_major": 2,
              "version_minor": 0
            },
            "text/plain": [
              "Generating train split: 0 examples [00:00, ? examples/s]"
            ]
          },
          "metadata": {},
          "output_type": "display_data"
        }
      ],
      "source": [
        "emotions_train = load_dataset(\"csv\", data_files=\"/kaggle/input/emotions-dataset-for-nlp/train.txt\", delimiter=\";\", names=[\"text\", \"label\"])\n",
        "emotions_val = load_dataset(\"csv\", data_files=\"/kaggle/input/emotions-dataset-for-nlp/val.txt\", delimiter=\";\", names=[\"text\", \"label\"])\n",
        "emotions_test = load_dataset(\"csv\", data_files=\"/kaggle/input/emotions-dataset-for-nlp/test.txt\", delimiter=\";\", names=[\"text\", \"label\"])"
      ]
    },
    {
      "cell_type": "code",
      "execution_count": null,
      "id": "bf9f3c30",
      "metadata": {
        "execution": {
          "iopub.execute_input": "2024-04-18T14:04:11.842862Z",
          "iopub.status.busy": "2024-04-18T14:04:11.842556Z",
          "iopub.status.idle": "2024-04-18T14:04:11.848283Z",
          "shell.execute_reply": "2024-04-18T14:04:11.847369Z"
        },
        "papermill": {
          "duration": 0.026633,
          "end_time": "2024-04-18T14:04:11.850334",
          "exception": false,
          "start_time": "2024-04-18T14:04:11.823701",
          "status": "completed"
        },
        "tags": [],
        "id": "bf9f3c30",
        "outputId": "760ef979-8616-40bb-ca58-044bb7624b5e"
      },
      "outputs": [
        {
          "data": {
            "text/plain": [
              "DatasetDict({\n",
              "    train: Dataset({\n",
              "        features: ['text', 'label'],\n",
              "        num_rows: 16000\n",
              "    })\n",
              "})"
            ]
          },
          "execution_count": 11,
          "metadata": {},
          "output_type": "execute_result"
        }
      ],
      "source": [
        "emotions_train"
      ]
    },
    {
      "cell_type": "code",
      "execution_count": null,
      "id": "497aec45",
      "metadata": {
        "execution": {
          "iopub.execute_input": "2024-04-18T14:04:11.887468Z",
          "iopub.status.busy": "2024-04-18T14:04:11.887121Z",
          "iopub.status.idle": "2024-04-18T14:04:11.892837Z",
          "shell.execute_reply": "2024-04-18T14:04:11.891925Z"
        },
        "papermill": {
          "duration": 0.026907,
          "end_time": "2024-04-18T14:04:11.894871",
          "exception": false,
          "start_time": "2024-04-18T14:04:11.867964",
          "status": "completed"
        },
        "tags": [],
        "id": "497aec45",
        "outputId": "700fc71a-a243-4ecb-afc0-d0f803c8505c"
      },
      "outputs": [
        {
          "data": {
            "text/plain": [
              "DatasetDict({\n",
              "    train: Dataset({\n",
              "        features: ['text', 'label'],\n",
              "        num_rows: 2000\n",
              "    })\n",
              "})"
            ]
          },
          "execution_count": 12,
          "metadata": {},
          "output_type": "execute_result"
        }
      ],
      "source": [
        "emotions_val"
      ]
    },
    {
      "cell_type": "code",
      "execution_count": null,
      "id": "159ecf90",
      "metadata": {
        "execution": {
          "iopub.execute_input": "2024-04-18T14:04:11.933466Z",
          "iopub.status.busy": "2024-04-18T14:04:11.933138Z",
          "iopub.status.idle": "2024-04-18T14:04:11.938560Z",
          "shell.execute_reply": "2024-04-18T14:04:11.937673Z"
        },
        "papermill": {
          "duration": 0.027146,
          "end_time": "2024-04-18T14:04:11.940628",
          "exception": false,
          "start_time": "2024-04-18T14:04:11.913482",
          "status": "completed"
        },
        "tags": [],
        "id": "159ecf90",
        "outputId": "5112dfe8-d6e2-42eb-c55f-38094b84ccc2"
      },
      "outputs": [
        {
          "data": {
            "text/plain": [
              "DatasetDict({\n",
              "    train: Dataset({\n",
              "        features: ['text', 'label'],\n",
              "        num_rows: 2000\n",
              "    })\n",
              "})"
            ]
          },
          "execution_count": 13,
          "metadata": {},
          "output_type": "execute_result"
        }
      ],
      "source": [
        "emotions_test"
      ]
    },
    {
      "cell_type": "markdown",
      "id": "fcffac8a",
      "metadata": {
        "papermill": {
          "duration": 0.019795,
          "end_time": "2024-04-18T14:04:11.979178",
          "exception": false,
          "start_time": "2024-04-18T14:04:11.959383",
          "status": "completed"
        },
        "tags": [],
        "id": "fcffac8a"
      },
      "source": [
        "# **Import pre-trained Model DistilBERT**"
      ]
    },
    {
      "cell_type": "code",
      "execution_count": null,
      "id": "d6eb3135",
      "metadata": {
        "execution": {
          "iopub.execute_input": "2024-04-18T14:04:12.020063Z",
          "iopub.status.busy": "2024-04-18T14:04:12.019765Z",
          "iopub.status.idle": "2024-04-18T14:04:16.323810Z",
          "shell.execute_reply": "2024-04-18T14:04:16.323028Z"
        },
        "papermill": {
          "duration": 4.326502,
          "end_time": "2024-04-18T14:04:16.326106",
          "exception": false,
          "start_time": "2024-04-18T14:04:11.999604",
          "status": "completed"
        },
        "tags": [],
        "id": "d6eb3135",
        "outputId": "6c6b2502-f3f7-46ce-92ac-76dee53fa227",
        "colab": {
          "referenced_widgets": [
            "d7a77a6d519345fdbd4a7b741f221d16",
            "b804b7f3a64f46bda759b43c7ff4295c",
            "8a9399d6ff5444d2a39e61dd15a12bec",
            "cb8a3c81ef6a4c21bd062560273d5100"
          ]
        }
      },
      "outputs": [
        {
          "data": {
            "application/vnd.jupyter.widget-view+json": {
              "model_id": "d7a77a6d519345fdbd4a7b741f221d16",
              "version_major": 2,
              "version_minor": 0
            },
            "text/plain": [
              "tokenizer_config.json:   0%|          | 0.00/28.0 [00:00<?, ?B/s]"
            ]
          },
          "metadata": {},
          "output_type": "display_data"
        },
        {
          "data": {
            "application/vnd.jupyter.widget-view+json": {
              "model_id": "b804b7f3a64f46bda759b43c7ff4295c",
              "version_major": 2,
              "version_minor": 0
            },
            "text/plain": [
              "config.json:   0%|          | 0.00/483 [00:00<?, ?B/s]"
            ]
          },
          "metadata": {},
          "output_type": "display_data"
        },
        {
          "data": {
            "application/vnd.jupyter.widget-view+json": {
              "model_id": "8a9399d6ff5444d2a39e61dd15a12bec",
              "version_major": 2,
              "version_minor": 0
            },
            "text/plain": [
              "vocab.txt:   0%|          | 0.00/232k [00:00<?, ?B/s]"
            ]
          },
          "metadata": {},
          "output_type": "display_data"
        },
        {
          "data": {
            "application/vnd.jupyter.widget-view+json": {
              "model_id": "cb8a3c81ef6a4c21bd062560273d5100",
              "version_major": 2,
              "version_minor": 0
            },
            "text/plain": [
              "tokenizer.json:   0%|          | 0.00/466k [00:00<?, ?B/s]"
            ]
          },
          "metadata": {},
          "output_type": "display_data"
        }
      ],
      "source": [
        "from transformers import AutoTokenizer\n",
        "\n",
        "model = \"distilbert-base-uncased\"\n",
        "tokenizer = AutoTokenizer.from_pretrained(model)"
      ]
    },
    {
      "cell_type": "markdown",
      "id": "05c40497",
      "metadata": {
        "papermill": {
          "duration": 0.017983,
          "end_time": "2024-04-18T14:04:16.362705",
          "exception": false,
          "start_time": "2024-04-18T14:04:16.344722",
          "status": "completed"
        },
        "tags": [],
        "id": "05c40497"
      },
      "source": [
        "# **Tokenization**"
      ]
    },
    {
      "cell_type": "code",
      "execution_count": null,
      "id": "09288539",
      "metadata": {
        "execution": {
          "iopub.execute_input": "2024-04-18T14:04:16.400725Z",
          "iopub.status.busy": "2024-04-18T14:04:16.400122Z",
          "iopub.status.idle": "2024-04-18T14:04:16.404962Z",
          "shell.execute_reply": "2024-04-18T14:04:16.404123Z"
        },
        "papermill": {
          "duration": 0.02609,
          "end_time": "2024-04-18T14:04:16.406766",
          "exception": false,
          "start_time": "2024-04-18T14:04:16.380676",
          "status": "completed"
        },
        "tags": [],
        "id": "09288539"
      },
      "outputs": [],
      "source": [
        "def tokenize(data):\n",
        "    #train_texts = data[\"text\"].tolist()\n",
        "    return tokenizer(data[\"text\"], padding=True, truncation=True, return_tensors=\"tf\")"
      ]
    },
    {
      "cell_type": "code",
      "execution_count": null,
      "id": "e19ff3f6",
      "metadata": {
        "execution": {
          "iopub.execute_input": "2024-04-18T14:04:16.443245Z",
          "iopub.status.busy": "2024-04-18T14:04:16.442955Z",
          "iopub.status.idle": "2024-04-18T14:04:18.902955Z",
          "shell.execute_reply": "2024-04-18T14:04:18.902039Z"
        },
        "papermill": {
          "duration": 2.480703,
          "end_time": "2024-04-18T14:04:18.905079",
          "exception": false,
          "start_time": "2024-04-18T14:04:16.424376",
          "status": "completed"
        },
        "tags": [],
        "id": "e19ff3f6",
        "outputId": "7d371d58-0dee-48e5-f209-f8150879ca43",
        "colab": {
          "referenced_widgets": [
            "5ab62d695a644568b92c2ec18074cc74",
            "23fd103fde61457da14e07516dcaf7ec"
          ]
        }
      },
      "outputs": [
        {
          "data": {
            "application/vnd.jupyter.widget-view+json": {
              "model_id": "5ab62d695a644568b92c2ec18074cc74",
              "version_major": 2,
              "version_minor": 0
            },
            "text/plain": [
              "Map:   0%|          | 0/16000 [00:00<?, ? examples/s]"
            ]
          },
          "metadata": {},
          "output_type": "display_data"
        },
        {
          "data": {
            "application/vnd.jupyter.widget-view+json": {
              "model_id": "23fd103fde61457da14e07516dcaf7ec",
              "version_major": 2,
              "version_minor": 0
            },
            "text/plain": [
              "Map:   0%|          | 0/2000 [00:00<?, ? examples/s]"
            ]
          },
          "metadata": {},
          "output_type": "display_data"
        }
      ],
      "source": [
        "emotions_train_encoded = emotions_train.map(tokenize, batched = True, batch_size = None) # token encodings train set\n",
        "\n",
        "emotions_val_encoded = emotions_val.map(tokenize, batched = True, batch_size = None) # token encodings validation set"
      ]
    },
    {
      "cell_type": "code",
      "execution_count": null,
      "id": "5677a8ab",
      "metadata": {
        "execution": {
          "iopub.execute_input": "2024-04-18T14:04:18.986797Z",
          "iopub.status.busy": "2024-04-18T14:04:18.986450Z",
          "iopub.status.idle": "2024-04-18T14:04:18.992930Z",
          "shell.execute_reply": "2024-04-18T14:04:18.991971Z"
        },
        "papermill": {
          "duration": 0.030485,
          "end_time": "2024-04-18T14:04:18.994883",
          "exception": false,
          "start_time": "2024-04-18T14:04:18.964398",
          "status": "completed"
        },
        "tags": [],
        "id": "5677a8ab",
        "outputId": "3caa6762-8746-4b07-f7d2-9046186b678b"
      },
      "outputs": [
        {
          "data": {
            "text/plain": [
              "DatasetDict({\n",
              "    train: Dataset({\n",
              "        features: ['text', 'label', 'input_ids', 'attention_mask'],\n",
              "        num_rows: 16000\n",
              "    })\n",
              "})"
            ]
          },
          "execution_count": 17,
          "metadata": {},
          "output_type": "execute_result"
        }
      ],
      "source": [
        "emotions_train_encoded"
      ]
    },
    {
      "cell_type": "code",
      "execution_count": null,
      "id": "98324d85",
      "metadata": {
        "execution": {
          "iopub.execute_input": "2024-04-18T14:04:19.036583Z",
          "iopub.status.busy": "2024-04-18T14:04:19.036319Z",
          "iopub.status.idle": "2024-04-18T14:04:19.044742Z",
          "shell.execute_reply": "2024-04-18T14:04:19.041085Z"
        },
        "papermill": {
          "duration": 0.030675,
          "end_time": "2024-04-18T14:04:19.046754",
          "exception": false,
          "start_time": "2024-04-18T14:04:19.016079",
          "status": "completed"
        },
        "tags": [],
        "id": "98324d85",
        "outputId": "894014b8-78c1-4ac1-d52b-e3ffad6f61f9"
      },
      "outputs": [
        {
          "data": {
            "text/plain": [
              "DatasetDict({\n",
              "    train: Dataset({\n",
              "        features: ['text', 'label', 'input_ids', 'attention_mask'],\n",
              "        num_rows: 2000\n",
              "    })\n",
              "})"
            ]
          },
          "execution_count": 18,
          "metadata": {},
          "output_type": "execute_result"
        }
      ],
      "source": [
        "emotions_val_encoded"
      ]
    },
    {
      "cell_type": "markdown",
      "id": "95477f38",
      "metadata": {
        "papermill": {
          "duration": 0.021281,
          "end_time": "2024-04-18T14:04:19.089191",
          "exception": false,
          "start_time": "2024-04-18T14:04:19.067910",
          "status": "completed"
        },
        "tags": [],
        "id": "95477f38"
      },
      "source": [
        "# **Train Model on Twitter Dataset**"
      ]
    },
    {
      "cell_type": "markdown",
      "id": "a979aa03",
      "metadata": {
        "papermill": {
          "duration": 0.020004,
          "end_time": "2024-04-18T14:04:19.130283",
          "exception": false,
          "start_time": "2024-04-18T14:04:19.110279",
          "status": "completed"
        },
        "tags": [],
        "id": "a979aa03"
      },
      "source": [
        "**1. Feature Extraction**"
      ]
    },
    {
      "cell_type": "code",
      "execution_count": null,
      "id": "aa35a13f",
      "metadata": {
        "execution": {
          "iopub.execute_input": "2024-04-18T14:04:19.172709Z",
          "iopub.status.busy": "2024-04-18T14:04:19.172302Z",
          "iopub.status.idle": "2024-04-18T14:04:22.888257Z",
          "shell.execute_reply": "2024-04-18T14:04:22.887277Z"
        },
        "papermill": {
          "duration": 3.739592,
          "end_time": "2024-04-18T14:04:22.890361",
          "exception": false,
          "start_time": "2024-04-18T14:04:19.150769",
          "status": "completed"
        },
        "tags": [],
        "id": "aa35a13f",
        "outputId": "a1bf633e-9660-4a66-aa1f-030ad4824e8b",
        "colab": {
          "referenced_widgets": [
            "79872177980146d8997c543943ca56e8"
          ]
        }
      },
      "outputs": [
        {
          "data": {
            "application/vnd.jupyter.widget-view+json": {
              "model_id": "79872177980146d8997c543943ca56e8",
              "version_major": 2,
              "version_minor": 0
            },
            "text/plain": [
              "model.safetensors:   0%|          | 0.00/268M [00:00<?, ?B/s]"
            ]
          },
          "metadata": {},
          "output_type": "display_data"
        },
        {
          "name": "stderr",
          "output_type": "stream",
          "text": [
            "Some weights of the PyTorch model were not used when initializing the TF 2.0 model TFDistilBertModel: ['vocab_layer_norm.weight', 'vocab_projector.bias', 'vocab_transform.weight', 'vocab_layer_norm.bias', 'vocab_transform.bias']\n",
            "- This IS expected if you are initializing TFDistilBertModel from a PyTorch model trained on another task or with another architecture (e.g. initializing a TFBertForSequenceClassification model from a BertForPreTraining model).\n",
            "- This IS NOT expected if you are initializing TFDistilBertModel from a PyTorch model that you expect to be exactly identical (e.g. initializing a TFBertForSequenceClassification model from a BertForSequenceClassification model).\n",
            "All the weights of TFDistilBertModel were initialized from the PyTorch model.\n",
            "If your task is similar to the task the model of the checkpoint was trained on, you can already use TFDistilBertModel for predictions without further training.\n"
          ]
        }
      ],
      "source": [
        "from transformers import TFAutoModel\n",
        "\n",
        "bert_model = TFAutoModel.from_pretrained(model)"
      ]
    },
    {
      "cell_type": "code",
      "execution_count": null,
      "id": "43ab49e8",
      "metadata": {
        "execution": {
          "iopub.execute_input": "2024-04-18T14:04:22.934620Z",
          "iopub.status.busy": "2024-04-18T14:04:22.934243Z",
          "iopub.status.idle": "2024-04-18T14:05:05.586624Z",
          "shell.execute_reply": "2024-04-18T14:05:05.585715Z"
        },
        "papermill": {
          "duration": 42.67733,
          "end_time": "2024-04-18T14:05:05.588716",
          "exception": false,
          "start_time": "2024-04-18T14:04:22.911386",
          "status": "completed"
        },
        "tags": [],
        "id": "43ab49e8",
        "outputId": "3a2bbbce-96e6-4728-966a-c406528a32c0",
        "colab": {
          "referenced_widgets": [
            "1358569e607c43c0be04aa80407005c0",
            "2f81d0a0c8fb4ab285a7489ed4e733b5"
          ]
        }
      },
      "outputs": [
        {
          "name": "stderr",
          "output_type": "stream",
          "text": [
            "/opt/conda/lib/python3.10/site-packages/transformers/generation/tf_utils.py:465: UserWarning: `seed_generator` is deprecated and will be removed in a future version.\n",
            "  warnings.warn(\"`seed_generator` is deprecated and will be removed in a future version.\", UserWarning)\n"
          ]
        },
        {
          "data": {
            "application/vnd.jupyter.widget-view+json": {
              "model_id": "1358569e607c43c0be04aa80407005c0",
              "version_major": 2,
              "version_minor": 0
            },
            "text/plain": [
              "Map:   0%|          | 0/16000 [00:00<?, ? examples/s]"
            ]
          },
          "metadata": {},
          "output_type": "display_data"
        },
        {
          "data": {
            "application/vnd.jupyter.widget-view+json": {
              "model_id": "2f81d0a0c8fb4ab285a7489ed4e733b5",
              "version_major": 2,
              "version_minor": 0
            },
            "text/plain": [
              "Map:   0%|          | 0/2000 [00:00<?, ? examples/s]"
            ]
          },
          "metadata": {},
          "output_type": "display_data"
        }
      ],
      "source": [
        "# Get hidden States for Feature Extraction\n",
        "\n",
        "def extract_hidden_states(batch):\n",
        "    #inputs = {key: tf.convert_to_tensor(batch[key]) for key in batch.keys() if key != \"label\"}\n",
        "    inputs = tokenizer(batch[\"text\"], padding=True,\n",
        "                       truncation=True, return_tensors='tf')\n",
        "    outputs = bert_model(inputs)\n",
        "    hidden_states = outputs.last_hidden_state[:, 0].numpy()\n",
        "    return {\"hidden_states\": hidden_states}\n",
        "\n",
        "train_hidden_states = emotions_train_encoded.map(extract_hidden_states, batched=True)\n",
        "val_hidden_states = emotions_val_encoded.map(extract_hidden_states, batched=True)"
      ]
    },
    {
      "cell_type": "code",
      "execution_count": null,
      "id": "d57dc7ca",
      "metadata": {
        "execution": {
          "iopub.execute_input": "2024-04-18T14:05:05.637125Z",
          "iopub.status.busy": "2024-04-18T14:05:05.636769Z",
          "iopub.status.idle": "2024-04-18T14:05:05.642904Z",
          "shell.execute_reply": "2024-04-18T14:05:05.641981Z"
        },
        "papermill": {
          "duration": 0.031252,
          "end_time": "2024-04-18T14:05:05.645092",
          "exception": false,
          "start_time": "2024-04-18T14:05:05.613840",
          "status": "completed"
        },
        "tags": [],
        "id": "d57dc7ca",
        "outputId": "d9af86b7-c732-40f1-f4a9-95d22c636ef9"
      },
      "outputs": [
        {
          "data": {
            "text/plain": [
              "DatasetDict({\n",
              "    train: Dataset({\n",
              "        features: ['text', 'label', 'input_ids', 'attention_mask', 'hidden_states'],\n",
              "        num_rows: 16000\n",
              "    })\n",
              "})"
            ]
          },
          "execution_count": 21,
          "metadata": {},
          "output_type": "execute_result"
        }
      ],
      "source": [
        "train_hidden_states"
      ]
    },
    {
      "cell_type": "code",
      "execution_count": null,
      "id": "903521c5",
      "metadata": {
        "execution": {
          "iopub.execute_input": "2024-04-18T14:05:05.689954Z",
          "iopub.status.busy": "2024-04-18T14:05:05.689414Z",
          "iopub.status.idle": "2024-04-18T14:05:05.695267Z",
          "shell.execute_reply": "2024-04-18T14:05:05.694401Z"
        },
        "papermill": {
          "duration": 0.030805,
          "end_time": "2024-04-18T14:05:05.697460",
          "exception": false,
          "start_time": "2024-04-18T14:05:05.666655",
          "status": "completed"
        },
        "tags": [],
        "id": "903521c5",
        "outputId": "8a906e0e-ead1-4f53-dd9f-b5a4b9b2ce47"
      },
      "outputs": [
        {
          "data": {
            "text/plain": [
              "DatasetDict({\n",
              "    train: Dataset({\n",
              "        features: ['text', 'label', 'input_ids', 'attention_mask', 'hidden_states'],\n",
              "        num_rows: 2000\n",
              "    })\n",
              "})"
            ]
          },
          "execution_count": 22,
          "metadata": {},
          "output_type": "execute_result"
        }
      ],
      "source": [
        "val_hidden_states"
      ]
    },
    {
      "cell_type": "code",
      "execution_count": null,
      "id": "cecb98f5",
      "metadata": {
        "execution": {
          "iopub.execute_input": "2024-04-18T14:05:05.744816Z",
          "iopub.status.busy": "2024-04-18T14:05:05.744330Z",
          "iopub.status.idle": "2024-04-18T14:05:16.551985Z",
          "shell.execute_reply": "2024-04-18T14:05:16.550965Z"
        },
        "papermill": {
          "duration": 10.834347,
          "end_time": "2024-04-18T14:05:16.554373",
          "exception": false,
          "start_time": "2024-04-18T14:05:05.720026",
          "status": "completed"
        },
        "tags": [],
        "id": "cecb98f5"
      },
      "outputs": [],
      "source": [
        "X_train = np.array(train_hidden_states[\"train\"][\"hidden_states\"])\n",
        "X_val = np.array(val_hidden_states[\"train\"][\"hidden_states\"])"
      ]
    },
    {
      "cell_type": "code",
      "execution_count": null,
      "id": "2a152993",
      "metadata": {
        "execution": {
          "iopub.execute_input": "2024-04-18T14:05:16.595437Z",
          "iopub.status.busy": "2024-04-18T14:05:16.594697Z",
          "iopub.status.idle": "2024-04-18T14:05:16.631357Z",
          "shell.execute_reply": "2024-04-18T14:05:16.630632Z"
        },
        "papermill": {
          "duration": 0.05899,
          "end_time": "2024-04-18T14:05:16.633288",
          "exception": false,
          "start_time": "2024-04-18T14:05:16.574298",
          "status": "completed"
        },
        "tags": [],
        "id": "2a152993"
      },
      "outputs": [],
      "source": [
        "y_train = np.array(train_hidden_states[\"train\"][\"label\"])\n",
        "y_val = np.array(val_hidden_states[\"train\"][\"label\"])"
      ]
    },
    {
      "cell_type": "code",
      "execution_count": null,
      "id": "bff1d8af",
      "metadata": {
        "execution": {
          "iopub.execute_input": "2024-04-18T14:05:16.674847Z",
          "iopub.status.busy": "2024-04-18T14:05:16.674549Z",
          "iopub.status.idle": "2024-04-18T14:05:16.682044Z",
          "shell.execute_reply": "2024-04-18T14:05:16.681334Z"
        },
        "papermill": {
          "duration": 0.0303,
          "end_time": "2024-04-18T14:05:16.683887",
          "exception": false,
          "start_time": "2024-04-18T14:05:16.653587",
          "status": "completed"
        },
        "tags": [],
        "id": "bff1d8af"
      },
      "outputs": [],
      "source": [
        "from sklearn.preprocessing import LabelEncoder\n",
        "\n",
        "le = LabelEncoder()\n",
        "\n",
        "y_train = le.fit_transform(y_train)\n",
        "y_val = le.fit_transform(y_val)"
      ]
    },
    {
      "cell_type": "code",
      "execution_count": null,
      "id": "8a6f9a61",
      "metadata": {
        "execution": {
          "iopub.execute_input": "2024-04-18T14:05:16.724251Z",
          "iopub.status.busy": "2024-04-18T14:05:16.723931Z",
          "iopub.status.idle": "2024-04-18T14:06:03.578373Z",
          "shell.execute_reply": "2024-04-18T14:06:03.577382Z"
        },
        "papermill": {
          "duration": 46.897181,
          "end_time": "2024-04-18T14:06:03.600704",
          "exception": false,
          "start_time": "2024-04-18T14:05:16.703523",
          "status": "completed"
        },
        "tags": [],
        "id": "8a6f9a61",
        "outputId": "77d5f299-920a-4152-8908-dd66196ddd04"
      },
      "outputs": [
        {
          "data": {
            "text/html": [
              "<div>\n",
              "<style scoped>\n",
              "    .dataframe tbody tr th:only-of-type {\n",
              "        vertical-align: middle;\n",
              "    }\n",
              "\n",
              "    .dataframe tbody tr th {\n",
              "        vertical-align: top;\n",
              "    }\n",
              "\n",
              "    .dataframe thead th {\n",
              "        text-align: right;\n",
              "    }\n",
              "</style>\n",
              "<table border=\"1\" class=\"dataframe\">\n",
              "  <thead>\n",
              "    <tr style=\"text-align: right;\">\n",
              "      <th></th>\n",
              "      <th>X</th>\n",
              "      <th>Y</th>\n",
              "      <th>label</th>\n",
              "    </tr>\n",
              "  </thead>\n",
              "  <tbody>\n",
              "    <tr>\n",
              "      <th>0</th>\n",
              "      <td>4.401956</td>\n",
              "      <td>6.398651</td>\n",
              "      <td>4</td>\n",
              "    </tr>\n",
              "    <tr>\n",
              "      <th>1</th>\n",
              "      <td>-2.928470</td>\n",
              "      <td>6.046028</td>\n",
              "      <td>4</td>\n",
              "    </tr>\n",
              "    <tr>\n",
              "      <th>2</th>\n",
              "      <td>5.507990</td>\n",
              "      <td>2.754867</td>\n",
              "      <td>0</td>\n",
              "    </tr>\n",
              "    <tr>\n",
              "      <th>3</th>\n",
              "      <td>-2.342625</td>\n",
              "      <td>4.247516</td>\n",
              "      <td>3</td>\n",
              "    </tr>\n",
              "    <tr>\n",
              "      <th>4</th>\n",
              "      <td>-3.267081</td>\n",
              "      <td>4.382162</td>\n",
              "      <td>0</td>\n",
              "    </tr>\n",
              "  </tbody>\n",
              "</table>\n",
              "</div>"
            ],
            "text/plain": [
              "          X         Y  label\n",
              "0  4.401956  6.398651      4\n",
              "1 -2.928470  6.046028      4\n",
              "2  5.507990  2.754867      0\n",
              "3 -2.342625  4.247516      3\n",
              "4 -3.267081  4.382162      0"
            ]
          },
          "execution_count": 26,
          "metadata": {},
          "output_type": "execute_result"
        }
      ],
      "source": [
        "# Visualize the Training Set in a 2D\n",
        "\n",
        "from umap import UMAP\n",
        "from sklearn.preprocessing import MinMaxScaler\n",
        "\n",
        "X_scaled = MinMaxScaler().fit_transform(X_train)\n",
        "\n",
        "mapper = UMAP(n_components=2, metric=\"cosine\").fit(X_scaled)\n",
        "\n",
        "df_emb = pd.DataFrame(mapper.embedding_, columns=[\"X\", \"Y\"])\n",
        "df_emb[\"label\"] = y_train\n",
        "df_emb.head()"
      ]
    },
    {
      "cell_type": "code",
      "execution_count": null,
      "id": "94abbd1d",
      "metadata": {
        "execution": {
          "iopub.execute_input": "2024-04-18T14:06:03.642075Z",
          "iopub.status.busy": "2024-04-18T14:06:03.641531Z",
          "iopub.status.idle": "2024-04-18T14:06:04.206549Z",
          "shell.execute_reply": "2024-04-18T14:06:04.205598Z"
        },
        "papermill": {
          "duration": 0.588239,
          "end_time": "2024-04-18T14:06:04.209121",
          "exception": false,
          "start_time": "2024-04-18T14:06:03.620882",
          "status": "completed"
        },
        "tags": [],
        "id": "94abbd1d",
        "outputId": "895db810-6556-45b2-cba8-cf8d0c778446"
      },
      "outputs": [
        {
          "data": {
            "image/png": "[encoded data removed]",
            "text/plain": [
              "<Figure size 700x500 with 6 Axes>"
            ]
          },
          "metadata": {},
          "output_type": "display_data"
        }
      ],
      "source": [
        "fig, axes = plt.subplots(2,3, figsize=(7,5))\n",
        "axes = axes.flatten()\n",
        "cmaps = [\"Greys\", \"Blues\", \"Oranges\", \"Reds\", \"Purples\", \"Greens\"]\n",
        "labels = np.unique(emotions_train[\"train\"][\"label\"])\n",
        "\n",
        "\n",
        "for i, (label, cmap) in enumerate(zip(labels, cmaps)):\n",
        "    df_emb_sub = df_emb.query(f\"label=={i}\")\n",
        "    axes[i].hexbin(df_emb_sub[\"X\"], df_emb_sub[\"Y\"], cmap=cmap,\n",
        "                  gridsize=20, linewidth=(0,))\n",
        "    axes[i].set_title(label)\n",
        "    axes[i].set_xticks([]), axes[i].set_yticks([])\n",
        "\n",
        "plt.tight_layout()\n",
        "plt.show()"
      ]
    },
    {
      "cell_type": "markdown",
      "id": "80cff0bb",
      "metadata": {
        "papermill": {
          "duration": 0.021921,
          "end_time": "2024-04-18T14:06:04.254285",
          "exception": false,
          "start_time": "2024-04-18T14:06:04.232364",
          "status": "completed"
        },
        "tags": [],
        "id": "80cff0bb"
      },
      "source": [
        "Using some base Models"
      ]
    },
    {
      "cell_type": "code",
      "execution_count": null,
      "id": "fb9f7a23",
      "metadata": {
        "execution": {
          "iopub.execute_input": "2024-04-18T14:06:04.300493Z",
          "iopub.status.busy": "2024-04-18T14:06:04.300158Z",
          "iopub.status.idle": "2024-04-18T14:06:04.436604Z",
          "shell.execute_reply": "2024-04-18T14:06:04.435631Z"
        },
        "papermill": {
          "duration": 0.162092,
          "end_time": "2024-04-18T14:06:04.438721",
          "exception": false,
          "start_time": "2024-04-18T14:06:04.276629",
          "status": "completed"
        },
        "tags": [],
        "id": "fb9f7a23"
      },
      "outputs": [],
      "source": [
        "from xgboost import XGBClassifier"
      ]
    },
    {
      "cell_type": "code",
      "execution_count": null,
      "id": "06de0b67",
      "metadata": {
        "execution": {
          "iopub.execute_input": "2024-04-18T14:06:04.484684Z",
          "iopub.status.busy": "2024-04-18T14:06:04.484118Z",
          "iopub.status.idle": "2024-04-18T14:08:23.205649Z",
          "shell.execute_reply": "2024-04-18T14:08:23.204421Z"
        },
        "papermill": {
          "duration": 138.772729,
          "end_time": "2024-04-18T14:08:23.233431",
          "exception": false,
          "start_time": "2024-04-18T14:06:04.460702",
          "status": "completed"
        },
        "tags": [],
        "id": "06de0b67",
        "outputId": "e25785c1-1ca2-4b15-84bd-4fab0e821957"
      },
      "outputs": [
        {
          "data": {
            "text/plain": [
              "0.5735"
            ]
          },
          "execution_count": 29,
          "metadata": {},
          "output_type": "execute_result"
        }
      ],
      "source": [
        "xgb_clf = XGBClassifier()\n",
        "\n",
        "xgb_clf.fit(X_train, y_train)\n",
        "\n",
        "xgb_clf.score(X_val, y_val)"
      ]
    },
    {
      "cell_type": "code",
      "execution_count": null,
      "id": "efc84c03",
      "metadata": {
        "execution": {
          "iopub.execute_input": "2024-04-18T14:08:23.284008Z",
          "iopub.status.busy": "2024-04-18T14:08:23.283089Z",
          "iopub.status.idle": "2024-04-18T14:08:23.287793Z",
          "shell.execute_reply": "2024-04-18T14:08:23.286772Z"
        },
        "papermill": {
          "duration": 0.032333,
          "end_time": "2024-04-18T14:08:23.289934",
          "exception": false,
          "start_time": "2024-04-18T14:08:23.257601",
          "status": "completed"
        },
        "tags": [],
        "id": "efc84c03"
      },
      "outputs": [],
      "source": [
        "from sklearn.linear_model import LogisticRegression"
      ]
    },
    {
      "cell_type": "code",
      "execution_count": null,
      "id": "b3de5de8",
      "metadata": {
        "execution": {
          "iopub.execute_input": "2024-04-18T14:08:23.339381Z",
          "iopub.status.busy": "2024-04-18T14:08:23.338682Z",
          "iopub.status.idle": "2024-04-18T14:11:15.756328Z",
          "shell.execute_reply": "2024-04-18T14:11:15.755145Z"
        },
        "papermill": {
          "duration": 172.504259,
          "end_time": "2024-04-18T14:11:15.818023",
          "exception": false,
          "start_time": "2024-04-18T14:08:23.313764",
          "status": "completed"
        },
        "tags": [],
        "id": "b3de5de8",
        "outputId": "fbb409ba-439a-4383-98fd-af79043e3b85"
      },
      "outputs": [
        {
          "data": {
            "text/plain": [
              "0.6335"
            ]
          },
          "execution_count": 31,
          "metadata": {},
          "output_type": "execute_result"
        }
      ],
      "source": [
        "log_clf = LogisticRegression(max_iter=3000)\n",
        "\n",
        "log_clf.fit(X_train, y_train)\n",
        "\n",
        "log_clf.score(X_val, y_val)"
      ]
    },
    {
      "cell_type": "markdown",
      "id": "a73ba213",
      "metadata": {
        "papermill": {
          "duration": 0.023608,
          "end_time": "2024-04-18T14:11:15.894486",
          "exception": false,
          "start_time": "2024-04-18T14:11:15.870878",
          "status": "completed"
        },
        "tags": [],
        "id": "a73ba213"
      },
      "source": [
        "****Evaluation****"
      ]
    },
    {
      "cell_type": "code",
      "execution_count": null,
      "id": "4ff9fba3",
      "metadata": {
        "execution": {
          "iopub.execute_input": "2024-04-18T14:11:15.946272Z",
          "iopub.status.busy": "2024-04-18T14:11:15.945182Z",
          "iopub.status.idle": "2024-04-18T14:11:15.950107Z",
          "shell.execute_reply": "2024-04-18T14:11:15.949246Z"
        },
        "papermill": {
          "duration": 0.032322,
          "end_time": "2024-04-18T14:11:15.952112",
          "exception": false,
          "start_time": "2024-04-18T14:11:15.919790",
          "status": "completed"
        },
        "tags": [],
        "id": "4ff9fba3"
      },
      "outputs": [],
      "source": [
        "from sklearn.metrics import confusion_matrix, ConfusionMatrixDisplay"
      ]
    },
    {
      "cell_type": "code",
      "execution_count": null,
      "id": "e64300d9",
      "metadata": {
        "execution": {
          "iopub.execute_input": "2024-04-18T14:11:16.002431Z",
          "iopub.status.busy": "2024-04-18T14:11:16.001829Z",
          "iopub.status.idle": "2024-04-18T14:11:16.009016Z",
          "shell.execute_reply": "2024-04-18T14:11:16.007998Z"
        },
        "papermill": {
          "duration": 0.034713,
          "end_time": "2024-04-18T14:11:16.011096",
          "exception": false,
          "start_time": "2024-04-18T14:11:15.976383",
          "status": "completed"
        },
        "tags": [],
        "id": "e64300d9"
      },
      "outputs": [],
      "source": [
        "model1 = \"XGBoost Classifier\"\n",
        "model2 = \"Logistic Regression\"\n",
        "\n",
        "def confusion_matrix_plot(y_pred, y_true, labels, clf):\n",
        "    cm = confusion_matrix(y_true, y_pred, normalize=\"true\")\n",
        "    fig, ax = plt.subplots(figsize=(6,6))\n",
        "    confm = ConfusionMatrixDisplay(confusion_matrix=cm, display_labels = labels)\n",
        "    confm.plot(cmap=\"Blues\", values_format=\".2f\", ax=ax, colorbar=False)\n",
        "    plt.title(f\"Normalized confusion matrix {clf}\")\n",
        "    plt.show()"
      ]
    },
    {
      "cell_type": "code",
      "execution_count": null,
      "id": "78593785",
      "metadata": {
        "execution": {
          "iopub.execute_input": "2024-04-18T14:11:16.059823Z",
          "iopub.status.busy": "2024-04-18T14:11:16.059553Z",
          "iopub.status.idle": "2024-04-18T14:11:16.413144Z",
          "shell.execute_reply": "2024-04-18T14:11:16.412241Z"
        },
        "papermill": {
          "duration": 0.380402,
          "end_time": "2024-04-18T14:11:16.415529",
          "exception": false,
          "start_time": "2024-04-18T14:11:16.035127",
          "status": "completed"
        },
        "tags": [],
        "id": "78593785",
        "outputId": "8895db72-b060-4bea-902e-c5ae93eed335"
      },
      "outputs": [
        {
          "data": {
            "image/png": "[encoded data removed]",
            "text/plain": [
              "<Figure size 600x600 with 1 Axes>"
            ]
          },
          "metadata": {},
          "output_type": "display_data"
        }
      ],
      "source": [
        "# XGB Classifier Confusion Matrix\n",
        "\n",
        "y_pred_xgb = xgb_clf.predict(X_val)\n",
        "confusion_matrix_plot(y_pred_xgb, y_val, labels, model1)"
      ]
    },
    {
      "cell_type": "code",
      "execution_count": null,
      "id": "dca6a4b1",
      "metadata": {
        "execution": {
          "iopub.execute_input": "2024-04-18T14:11:16.464962Z",
          "iopub.status.busy": "2024-04-18T14:11:16.464117Z",
          "iopub.status.idle": "2024-04-18T14:11:16.868534Z",
          "shell.execute_reply": "2024-04-18T14:11:16.867422Z"
        },
        "papermill": {
          "duration": 0.431296,
          "end_time": "2024-04-18T14:11:16.870645",
          "exception": false,
          "start_time": "2024-04-18T14:11:16.439349",
          "status": "completed"
        },
        "tags": [],
        "id": "dca6a4b1",
        "outputId": "0c1bd9bc-a6db-4ad5-ab95-0a023235f8a3"
      },
      "outputs": [
        {
          "data": {
            "image/png": "[encoded data removed]",
            "text/plain": [
              "<Figure size 600x600 with 1 Axes>"
            ]
          },
          "metadata": {},
          "output_type": "display_data"
        }
      ],
      "source": [
        "# Logistic Regression Confusion Matrix\n",
        "\n",
        "y_pred_log = log_clf.predict(X_val)\n",
        "confusion_matrix_plot(y_pred_log, y_val, labels, model2)"
      ]
    },
    {
      "cell_type": "markdown",
      "id": "f5b77d9c",
      "metadata": {
        "papermill": {
          "duration": 0.024634,
          "end_time": "2024-04-18T14:11:16.920746",
          "exception": false,
          "start_time": "2024-04-18T14:11:16.896112",
          "status": "completed"
        },
        "tags": [],
        "id": "f5b77d9c"
      },
      "source": [
        "**2. Fine-Tuning**"
      ]
    },
    {
      "cell_type": "code",
      "execution_count": null,
      "id": "53a3c439",
      "metadata": {
        "execution": {
          "iopub.execute_input": "2024-04-18T14:11:16.973700Z",
          "iopub.status.busy": "2024-04-18T14:11:16.972783Z",
          "iopub.status.idle": "2024-04-18T14:11:16.977929Z",
          "shell.execute_reply": "2024-04-18T14:11:16.976893Z"
        },
        "papermill": {
          "duration": 0.034071,
          "end_time": "2024-04-18T14:11:16.979978",
          "exception": false,
          "start_time": "2024-04-18T14:11:16.945907",
          "status": "completed"
        },
        "tags": [],
        "id": "53a3c439"
      },
      "outputs": [],
      "source": [
        "from transformers import TFAutoModelForSequenceClassification"
      ]
    },
    {
      "cell_type": "code",
      "execution_count": null,
      "id": "50750fdd",
      "metadata": {
        "execution": {
          "iopub.execute_input": "2024-04-18T14:11:17.032924Z",
          "iopub.status.busy": "2024-04-18T14:11:17.032074Z",
          "iopub.status.idle": "2024-04-18T14:11:17.895680Z",
          "shell.execute_reply": "2024-04-18T14:11:17.894863Z"
        },
        "papermill": {
          "duration": 0.892557,
          "end_time": "2024-04-18T14:11:17.897886",
          "exception": false,
          "start_time": "2024-04-18T14:11:17.005329",
          "status": "completed"
        },
        "tags": [],
        "id": "50750fdd",
        "outputId": "c3e453bd-9034-456f-c76f-47276ac2928a"
      },
      "outputs": [
        {
          "name": "stderr",
          "output_type": "stream",
          "text": [
            "Some weights of the PyTorch model were not used when initializing the TF 2.0 model TFDistilBertForSequenceClassification: ['vocab_layer_norm.weight', 'vocab_projector.bias', 'vocab_transform.weight', 'vocab_layer_norm.bias', 'vocab_transform.bias']\n",
            "- This IS expected if you are initializing TFDistilBertForSequenceClassification from a PyTorch model trained on another task or with another architecture (e.g. initializing a TFBertForSequenceClassification model from a BertForPreTraining model).\n",
            "- This IS NOT expected if you are initializing TFDistilBertForSequenceClassification from a PyTorch model that you expect to be exactly identical (e.g. initializing a TFBertForSequenceClassification model from a BertForSequenceClassification model).\n",
            "Some weights or buffers of the TF 2.0 model TFDistilBertForSequenceClassification were not initialized from the PyTorch model and are newly initialized: ['pre_classifier.weight', 'pre_classifier.bias', 'classifier.weight', 'classifier.bias']\n",
            "You should probably TRAIN this model on a down-stream task to be able to use it for predictions and inference.\n"
          ]
        }
      ],
      "source": [
        "num_labels = 6\n",
        "batch_size = 64\n",
        "tf_model = TFAutoModelForSequenceClassification.from_pretrained(model, num_labels=num_labels)"
      ]
    },
    {
      "cell_type": "code",
      "execution_count": null,
      "id": "e27d0d45",
      "metadata": {
        "execution": {
          "iopub.execute_input": "2024-04-18T14:11:17.951645Z",
          "iopub.status.busy": "2024-04-18T14:11:17.950801Z",
          "iopub.status.idle": "2024-04-18T14:11:18.004057Z",
          "shell.execute_reply": "2024-04-18T14:11:18.003251Z"
        },
        "papermill": {
          "duration": 0.082787,
          "end_time": "2024-04-18T14:11:18.006387",
          "exception": false,
          "start_time": "2024-04-18T14:11:17.923600",
          "status": "completed"
        },
        "tags": [],
        "id": "e27d0d45"
      },
      "outputs": [],
      "source": [
        "# Label Encoding for TF Model\n",
        "labels_train = emotions_train_encoded[\"train\"][\"label\"]\n",
        "labels_val = emotions_val_encoded[\"train\"][\"label\"]\n",
        "\n",
        "label_encoded_train = le.fit_transform(labels_train)\n",
        "emotions_train_encoded[\"train\"] = emotions_train_encoded[\"train\"].add_column(\"encoded_label\", label_encoded_train)\n",
        "\n",
        "label_encoded_val = le.fit_transform(labels_val)\n",
        "emotions_val_encoded[\"train\"] = emotions_val_encoded[\"train\"].add_column(\"encoded_label\", label_encoded_val)"
      ]
    },
    {
      "cell_type": "code",
      "execution_count": null,
      "id": "ad0ec321",
      "metadata": {
        "execution": {
          "iopub.execute_input": "2024-04-18T14:11:18.059147Z",
          "iopub.status.busy": "2024-04-18T14:11:18.058818Z",
          "iopub.status.idle": "2024-04-18T14:11:18.545002Z",
          "shell.execute_reply": "2024-04-18T14:11:18.544194Z"
        },
        "papermill": {
          "duration": 0.514645,
          "end_time": "2024-04-18T14:11:18.547384",
          "exception": false,
          "start_time": "2024-04-18T14:11:18.032739",
          "status": "completed"
        },
        "tags": [],
        "id": "ad0ec321",
        "outputId": "07e81172-9375-4e21-c7d4-d7c3ea63e3ac"
      },
      "outputs": [
        {
          "name": "stderr",
          "output_type": "stream",
          "text": [
            "/opt/conda/lib/python3.10/site-packages/datasets/arrow_dataset.py:401: FutureWarning: The output of `to_tf_dataset` will change when a passing single element list for `labels` or `columns` in the next datasets version. To return a tuple structure rather than dict, pass a single string.\n",
            "Old behaviour: columns=['a'], labels=['labels'] -> (tf.Tensor, tf.Tensor)  \n",
            "             : columns='a', labels='labels' -> (tf.Tensor, tf.Tensor)  \n",
            "New behaviour: columns=['a'],labels=['labels'] -> ({'a': tf.Tensor}, {'labels': tf.Tensor})  \n",
            "             : columns='a', labels='labels' -> (tf.Tensor, tf.Tensor) \n",
            "  warnings.warn(\n"
          ]
        }
      ],
      "source": [
        "tokenizer_columns = tokenizer.model_input_names\n",
        "\n",
        "tf_train =  emotions_train_encoded[\"train\"].to_tf_dataset(columns=tokenizer_columns, label_cols=[\"encoded_label\"],\n",
        "                                                          shuffle=True,\n",
        "                                                          batch_size=batch_size)\n",
        "\n",
        "tf_val = emotions_val_encoded[\"train\"].to_tf_dataset(columns=tokenizer_columns, label_cols=[\"encoded_label\"],\n",
        "                                                     shuffle=False,\n",
        "                                                     batch_size=batch_size)"
      ]
    },
    {
      "cell_type": "code",
      "execution_count": null,
      "id": "1c9610a5",
      "metadata": {
        "execution": {
          "iopub.execute_input": "2024-04-18T14:11:18.600043Z",
          "iopub.status.busy": "2024-04-18T14:11:18.599261Z",
          "iopub.status.idle": "2024-04-18T14:11:18.622885Z",
          "shell.execute_reply": "2024-04-18T14:11:18.622151Z"
        },
        "papermill": {
          "duration": 0.051784,
          "end_time": "2024-04-18T14:11:18.624952",
          "exception": false,
          "start_time": "2024-04-18T14:11:18.573168",
          "status": "completed"
        },
        "tags": [],
        "id": "1c9610a5"
      },
      "outputs": [],
      "source": [
        "tf_model.compile(optimizer=tf.keras.optimizers.Adam(learning_rate=5e-5),\n",
        "                 loss=tf.keras.losses.SparseCategoricalCrossentropy(from_logits=True),\n",
        "                 metrics=tf.keras.metrics.SparseCategoricalAccuracy())"
      ]
    },
    {
      "cell_type": "code",
      "execution_count": null,
      "id": "0f003805",
      "metadata": {
        "execution": {
          "iopub.execute_input": "2024-04-18T14:11:18.678461Z",
          "iopub.status.busy": "2024-04-18T14:11:18.678104Z",
          "iopub.status.idle": "2024-04-18T14:19:17.161683Z",
          "shell.execute_reply": "2024-04-18T14:19:17.160584Z"
        },
        "papermill": {
          "duration": 478.512545,
          "end_time": "2024-04-18T14:19:17.163818",
          "exception": false,
          "start_time": "2024-04-18T14:11:18.651273",
          "status": "completed"
        },
        "tags": [],
        "id": "0f003805",
        "outputId": "42e4e1d3-6f8d-4292-ab4e-68ebc58c8a15"
      },
      "outputs": [
        {
          "name": "stdout",
          "output_type": "stream",
          "text": [
            "Epoch 1/3\n",
            "WARNING: AutoGraph could not transform <function infer_framework at 0x7a13a6749b40> and will run it as-is.\n",
            "Cause: for/else statement not yet supported\n",
            "To silence this warning, decorate the function with @tf.autograph.experimental.do_not_convert\n"
          ]
        },
        {
          "name": "stderr",
          "output_type": "stream",
          "text": [
            "WARNING: All log messages before absl::InitializeLog() is called are written to STDERR\n",
            "I0000 00:00:1713449531.905026      89 device_compiler.h:186] Compiled cluster using XLA!  This line is logged at most once for the lifetime of the process.\n"
          ]
        },
        {
          "name": "stdout",
          "output_type": "stream",
          "text": [
            "250/250 [==============================] - 205s 575ms/step - loss: 0.5107 - sparse_categorical_accuracy: 0.8266 - val_loss: 0.1804 - val_sparse_categorical_accuracy: 0.9310\n",
            "Epoch 2/3\n",
            "250/250 [==============================] - 137s 547ms/step - loss: 0.1502 - sparse_categorical_accuracy: 0.9356 - val_loss: 0.1607 - val_sparse_categorical_accuracy: 0.9355\n",
            "Epoch 3/3\n",
            "250/250 [==============================] - 137s 546ms/step - loss: 0.1013 - sparse_categorical_accuracy: 0.9503 - val_loss: 0.1348 - val_sparse_categorical_accuracy: 0.9330\n"
          ]
        },
        {
          "data": {
            "text/plain": [
              "<tf_keras.src.callbacks.History at 0x7a1345773ca0>"
            ]
          },
          "execution_count": 41,
          "metadata": {},
          "output_type": "execute_result"
        }
      ],
      "source": [
        "tf_model.fit(tf_train, validation_data=tf_val, epochs=3)"
      ]
    },
    {
      "cell_type": "code",
      "execution_count": null,
      "id": "d2341509",
      "metadata": {
        "execution": {
          "iopub.execute_input": "2024-04-18T14:19:17.344608Z",
          "iopub.status.busy": "2024-04-18T14:19:17.343621Z",
          "iopub.status.idle": "2024-04-18T14:19:26.595112Z",
          "shell.execute_reply": "2024-04-18T14:19:26.594262Z"
        },
        "papermill": {
          "duration": 9.344812,
          "end_time": "2024-04-18T14:19:26.597425",
          "exception": false,
          "start_time": "2024-04-18T14:19:17.252613",
          "status": "completed"
        },
        "tags": [],
        "id": "d2341509",
        "outputId": "39b534ef-a0fd-45a7-9743-de30e8f299b2"
      },
      "outputs": [
        {
          "name": "stdout",
          "output_type": "stream",
          "text": [
            "32/32 [==============================] - 9s 143ms/step\n"
          ]
        }
      ],
      "source": [
        "y_pred_tf = tf_model.predict(tf_val)"
      ]
    },
    {
      "cell_type": "code",
      "execution_count": null,
      "id": "55987ad7",
      "metadata": {
        "execution": {
          "iopub.execute_input": "2024-04-18T14:19:26.782288Z",
          "iopub.status.busy": "2024-04-18T14:19:26.781874Z",
          "iopub.status.idle": "2024-04-18T14:19:26.788671Z",
          "shell.execute_reply": "2024-04-18T14:19:26.787515Z"
        },
        "papermill": {
          "duration": 0.103055,
          "end_time": "2024-04-18T14:19:26.790975",
          "exception": false,
          "start_time": "2024-04-18T14:19:26.687920",
          "status": "completed"
        },
        "tags": [],
        "id": "55987ad7",
        "outputId": "0d69d577-a074-4558-bb5e-568407ef9aac"
      },
      "outputs": [
        {
          "name": "stdout",
          "output_type": "stream",
          "text": [
            "Predicted Labels: [4 4 3 ... 2 2 2]\n"
          ]
        }
      ],
      "source": [
        "# Predictet Labels from Model\n",
        "\n",
        "logits = y_pred_tf.logits\n",
        "y_pred = np.argmax(logits, axis=1)\n",
        "\n",
        "print(\"Predicted Labels:\", y_pred)"
      ]
    },
    {
      "cell_type": "code",
      "execution_count": null,
      "id": "83fa7421",
      "metadata": {
        "execution": {
          "iopub.execute_input": "2024-04-18T14:19:26.978268Z",
          "iopub.status.busy": "2024-04-18T14:19:26.977276Z",
          "iopub.status.idle": "2024-04-18T14:19:27.209315Z",
          "shell.execute_reply": "2024-04-18T14:19:27.207964Z"
        },
        "papermill": {
          "duration": 0.327053,
          "end_time": "2024-04-18T14:19:27.212060",
          "exception": false,
          "start_time": "2024-04-18T14:19:26.885007",
          "status": "completed"
        },
        "tags": [],
        "id": "83fa7421",
        "outputId": "2594e65f-2ef9-40f1-bd0e-0cfc7526922d"
      },
      "outputs": [
        {
          "name": "stdout",
          "output_type": "stream",
          "text": [
            "tf.Tensor([4 4 3 ... 2 2 2], shape=(2000,), dtype=int64)\n"
          ]
        }
      ],
      "source": [
        "# Get true Labels\n",
        "\n",
        "def extract_labels(features, labels):\n",
        "    return labels\n",
        "\n",
        "y_true = tf_val.map(extract_labels)\n",
        "\n",
        "y_true = tf.concat(list(y_true.as_numpy_iterator()), axis=0)\n",
        "print(y_true)"
      ]
    },
    {
      "cell_type": "markdown",
      "id": "55952236",
      "metadata": {
        "papermill": {
          "duration": 0.089786,
          "end_time": "2024-04-18T14:19:27.404800",
          "exception": false,
          "start_time": "2024-04-18T14:19:27.315014",
          "status": "completed"
        },
        "tags": [],
        "id": "55952236"
      },
      "source": [
        "**Evaluation**"
      ]
    },
    {
      "cell_type": "code",
      "execution_count": null,
      "id": "24385591",
      "metadata": {
        "execution": {
          "iopub.execute_input": "2024-04-18T14:19:27.602027Z",
          "iopub.status.busy": "2024-04-18T14:19:27.601060Z",
          "iopub.status.idle": "2024-04-18T14:19:27.607151Z",
          "shell.execute_reply": "2024-04-18T14:19:27.606237Z"
        },
        "papermill": {
          "duration": 0.106886,
          "end_time": "2024-04-18T14:19:27.609310",
          "exception": false,
          "start_time": "2024-04-18T14:19:27.502424",
          "status": "completed"
        },
        "tags": [],
        "id": "24385591"
      },
      "outputs": [],
      "source": [
        "# Metrics which we use to evaluate the model\n",
        "\n",
        "from sklearn.metrics import accuracy_score, f1_score\n",
        "\n",
        "def evaluate_model(y_true, y_prediction):\n",
        "    f1 = f1_score(y_true, y_pred, average=\"weighted\")\n",
        "    acc = accuracy_score(y_true, y_pred)\n",
        "    return {\"accuarcy\": acc, \"f1\": f1}"
      ]
    },
    {
      "cell_type": "code",
      "execution_count": null,
      "id": "28bb30ee",
      "metadata": {
        "execution": {
          "iopub.execute_input": "2024-04-18T14:19:27.790626Z",
          "iopub.status.busy": "2024-04-18T14:19:27.789864Z",
          "iopub.status.idle": "2024-04-18T14:19:27.800460Z",
          "shell.execute_reply": "2024-04-18T14:19:27.799513Z"
        },
        "papermill": {
          "duration": 0.101173,
          "end_time": "2024-04-18T14:19:27.802571",
          "exception": false,
          "start_time": "2024-04-18T14:19:27.701398",
          "status": "completed"
        },
        "tags": [],
        "id": "28bb30ee",
        "outputId": "228d4ff4-4694-4e41-a02a-1032e6ed126b"
      },
      "outputs": [
        {
          "data": {
            "text/plain": [
              "{'accuarcy': 0.933, 'f1': 0.9330436791433421}"
            ]
          },
          "execution_count": 46,
          "metadata": {},
          "output_type": "execute_result"
        }
      ],
      "source": [
        "evaluate_model(y_true, y_pred)"
      ]
    },
    {
      "cell_type": "code",
      "execution_count": null,
      "id": "98140394",
      "metadata": {
        "execution": {
          "iopub.execute_input": "2024-04-18T14:19:27.991345Z",
          "iopub.status.busy": "2024-04-18T14:19:27.990642Z",
          "iopub.status.idle": "2024-04-18T14:19:28.311283Z",
          "shell.execute_reply": "2024-04-18T14:19:28.310271Z"
        },
        "papermill": {
          "duration": 0.419036,
          "end_time": "2024-04-18T14:19:28.313636",
          "exception": false,
          "start_time": "2024-04-18T14:19:27.894600",
          "status": "completed"
        },
        "tags": [],
        "id": "98140394",
        "outputId": "7d4aa08b-3b72-49fc-d681-8058a6772d71"
      },
      "outputs": [
        {
          "data": {
            "image/png": "[encoded data removed]",
            "text/plain": [
              "<Figure size 600x600 with 1 Axes>"
            ]
          },
          "metadata": {},
          "output_type": "display_data"
        }
      ],
      "source": [
        "# Confusion Matrix\n",
        "\n",
        "confusion_matrix_plot(y_pred, y_true, labels, \"TF Model\")\n"
      ]
    },
    {
      "cell_type": "code",
      "execution_count": null,
      "id": "cc19b294",
      "metadata": {
        "execution": {
          "iopub.execute_input": "2024-04-18T14:19:28.499718Z",
          "iopub.status.busy": "2024-04-18T14:19:28.499325Z",
          "iopub.status.idle": "2024-04-18T14:19:29.101632Z",
          "shell.execute_reply": "2024-04-18T14:19:29.100542Z"
        },
        "papermill": {
          "duration": 0.701556,
          "end_time": "2024-04-18T14:19:29.104274",
          "exception": false,
          "start_time": "2024-04-18T14:19:28.402718",
          "status": "completed"
        },
        "tags": [],
        "id": "cc19b294",
        "outputId": "a79313c4-f3ec-40f3-b71b-efa531aadd19"
      },
      "outputs": [
        {
          "name": "stdout",
          "output_type": "stream",
          "text": [
            "Predicted Label: anger\n",
            "True Label: ['sadness']\n",
            "Text: im feeling quite sad and sorry for myself but ill snap out of it soon\n",
            "\n",
            "\n",
            "Predicted Label: anger\n",
            "True Label: ['sadness']\n",
            "Text: i feel like i am still looking at a blank canvas blank pieces of paper\n",
            "\n",
            "\n",
            "Predicted Label: love\n",
            "True Label: ['love']\n",
            "Text: i feel like a faithful servant\n",
            "\n",
            "\n",
            "Predicted Label: sadness\n",
            "True Label: ['anger']\n",
            "Text: i am just feeling cranky and blue\n",
            "\n",
            "\n",
            "Predicted Label: anger\n",
            "True Label: ['joy']\n",
            "Text: i can have for a treat or if i am feeling festive\n",
            "\n",
            "\n",
            "Predicted Label: anger\n",
            "True Label: ['joy']\n",
            "Text: i start to feel more appreciative of what god has done for me\n",
            "\n",
            "\n",
            "Predicted Label: anger\n",
            "True Label: ['joy']\n",
            "Text: i am feeling more confident that we will be able to take care of this baby\n",
            "\n",
            "\n",
            "Predicted Label: anger\n",
            "True Label: ['joy']\n",
            "Text: i feel incredibly lucky just to be able to talk to her\n",
            "\n",
            "\n",
            "Predicted Label: anger\n",
            "True Label: ['joy']\n",
            "Text: i feel less keen about the army every day\n",
            "\n",
            "\n",
            "Predicted Label: anger\n",
            "True Label: ['sadness']\n",
            "Text: i feel dirty and ashamed for saying that\n",
            "\n",
            "\n",
            "Predicted Label: sadness\n",
            "True Label: ['anger']\n",
            "Text: i feel bitchy but not defeated yet\n",
            "\n",
            "\n",
            "Predicted Label: anger\n",
            "True Label: ['joy']\n",
            "Text: i was dribbling on mums coffee table looking out of the window and feeling very happy\n",
            "\n",
            "\n",
            "Predicted Label: anger\n",
            "True Label: ['sadness']\n",
            "Text: i woke up often got up around am feeling pukey radiation and groggy\n",
            "\n",
            "\n",
            "Predicted Label: anger\n",
            "True Label: ['sadness']\n",
            "Text: i was feeling sentimental\n",
            "\n",
            "\n",
            "Predicted Label: anger\n",
            "True Label: ['sadness']\n",
            "Text: i walked out of there an hour and fifteen minutes later feeling like i had been beaten with a stick and then placed on the rack and stretched\n",
            "\n",
            "\n",
            "Predicted Label: anger\n",
            "True Label: ['joy']\n",
            "Text: i never stop feeling thankful as to compare with others i considered myself lucky because i did not encounter ruthless pirates and i did not have to witness the slaughter of others\n",
            "\n",
            "\n",
            "Predicted Label: anger\n",
            "True Label: ['sadness']\n",
            "Text: i didn t feel abused and quite honestly it made my day a little better\n",
            "\n",
            "\n",
            "Predicted Label: anger\n",
            "True Label: ['anger']\n",
            "Text: i know what it feels like he stressed glaring down at her as she squeezed more soap onto her sponge\n",
            "\n",
            "\n",
            "Predicted Label: love\n",
            "True Label: ['love']\n",
            "Text: i also loved that you could really feel the desperation in these sequences and i especially liked the emotion between knight and squire as theyve been together in a similar fashion to batman and robin for a long time now\n",
            "\n",
            "\n",
            "Predicted Label: anger\n",
            "True Label: ['joy']\n",
            "Text: i had lunch with an old friend and it was nice but in general im not feeling energetic\n",
            "\n",
            "\n"
          ]
        }
      ],
      "source": [
        "# Display some examples\n",
        "\n",
        "for i in range(20):\n",
        "    predicted_label_index = y_pred[i]\n",
        "    predicted_label = emotions_train[\"train\"][\"label\"][predicted_label_index]\n",
        "    true_label_index = int(y_true[i])\n",
        "    true_label = le.inverse_transform([true_label_index])\n",
        "\n",
        "    print(f\"Predicted Label: {predicted_label}\\nTrue Label: {true_label}\\nText: {emotions_val_encoded['train']['text'][i]}\\n\\n\")\n",
        ""
      ]
    }
  ],
  "metadata": {
    "kaggle": {
      "accelerator": "nvidiaTeslaT4",
      "dataSources": [
        {
          "datasetId": 605165,
          "sourceId": 1085454,
          "sourceType": "datasetVersion"
        }
      ],
      "dockerImageVersionId": 30684,
      "isGpuEnabled": true,
      "isInternetEnabled": true,
      "language": "python",
      "sourceType": "notebook"
    },
    "kernelspec": {
      "display_name": "Python 3",
      "language": "python",
      "name": "python3"
    },
    "language_info": {
      "codemirror_mode": {
        "name": "ipython",
        "version": 3
      },
      "file_extension": ".py",
      "mimetype": "text/x-python",
      "name": "python",
      "nbconvert_exporter": "python",
      "pygments_lexer": "ipython3",
      "version": "3.10.13"
    },
    "papermill": {
      "default_parameters": {},
      "duration": 937.448009,
      "end_time": "2024-04-18T14:19:32.439592",
      "environment_variables": {},
      "exception": null,
      "input_path": "__notebook__.ipynb",
      "output_path": "__notebook__.ipynb",
      "parameters": {},
      "start_time": "2024-04-18T14:03:54.991583",
      "version": "2.5.0"
    },
    "widgets": {
      "application/vnd.jupyter.widget-state+json": {}
    },
    "colab": {
      "provenance": []
    }
  },
  "nbformat": 4,
  "nbformat_minor": 5
}